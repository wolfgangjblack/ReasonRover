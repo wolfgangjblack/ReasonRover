{
 "cells": [
  {
   "cell_type": "code",
   "execution_count": null,
   "metadata": {},
   "outputs": [],
   "source": [
    "# !pip install -r ../requirements.txt"
   ]
  },
  {
   "cell_type": "code",
   "execution_count": null,
   "metadata": {},
   "outputs": [],
   "source": [
    "import os\n",
    "import re\n",
    "\n",
    "import json\n",
    "import numpy as np\n",
    "from typing import Tuple\n",
    "\n",
    "import matplotlib.pyplot as plt\n",
    "from langchain.llms import OpenAI\n",
    "\n",
    "from langchain_experimental.tot.base import ToTChain\n",
    "from langchain_experimental.tot.checker import ToTChecker\n",
    "from langchain_experimental.tot.thought import ThoughtValidity\n",
    "\n",
    "##Load API key ------------------\n",
    "f = open('../apikeys/api.txt', 'r')\n",
    "key = f.readline()\n",
    "os.environ['OPENAI_API_KEY'] = key"
   ]
  },
  {
   "cell_type": "code",
   "execution_count": null,
   "metadata": {},
   "outputs": [],
   "source": [
    "class MyChecker(ToTChecker):\n",
    "    def evaluate(self,\n",
    "        problem_description: str,\n",
    "        thoughts: Tuple[str, ...] = ()) -> ThoughtValidity:\n",
    "        \n",
    "        last_thought = thoughts[-1]\n",
    "        clean_solution = last_thought.replace(\" \", \"\").replace('\"', \"\")\n",
    "        regex_solution = clean_solution.replace(\"*\", \".\").replace(\"|\", \"\\\\|\")\n",
    "        if sudoku_solution in clean_solution:\n",
    "            return ThoughtValidity.VALID_FINAL\n",
    "        elif re.search(regex_solution, sudoku_solution):\n",
    "            return ThoughtValidity.VALID_INTERMEDIATE\n",
    "        else:\n",
    "            return ThoughtValidity.INVALID\n"
   ]
  },
  {
   "cell_type": "code",
   "execution_count": null,
   "metadata": {},
   "outputs": [],
   "source": [
    "difficulty_map = {'base':2,\n",
    "                    'easy': 2,\n",
    "                    'medium': 2,\n",
    "                    'hard': 3,\n",
    "                    'expert':4}"
   ]
  },
  {
   "cell_type": "code",
   "execution_count": null,
   "metadata": {},
   "outputs": [],
   "source": [
    "# data_config = {}\n",
    "datadir = '../src/data/'\n",
    "models = [\"text-davinci-003\"]\n",
    "data_config = {}\n",
    "for model in models:\n",
    "    llm = OpenAI(temperature=0.1, max_tokens=512, model=model)\n",
    "    data_config[model] = {}\n",
    "    for file in os.listdir(datadir):\n",
    "\n",
    "        tile_size = file.split('.')[0].split('_')[-1]\n",
    "        grid = tile_size.split('x')[0]\n",
    "        subgrid = str(int(np.sqrt(int(grid))))+'x'+str(int(np.sqrt(int(grid))))\n",
    "        children_thoughts = difficulty_map[file.split('_')[0]]*int(grid)\n",
    "        \n",
    "        with open(datadir+file) as f:\n",
    "            data = f.read()\n",
    "\n",
    "        data = json.loads(data)\n",
    "\n",
    "        sudoku_puzzle = data['sudoku_puzzle']\n",
    "        sudoku_solution = data['sudoku_solution']\n",
    "\n",
    "        problem_description = f\"\"\"\n",
    "            {sudoku_puzzle}\n",
    "\n",
    "            - This is a {tile_size} Sudoku puzzle.\n",
    "            - The * represents a cell to be filled.\n",
    "            - The | character separates rows.\n",
    "            - At each step, replace one or more * with digits 1-{grid}.\n",
    "            - There must be no duplicate digits in any row, column or {subgrid} subgrid.\n",
    "            - Keep the known digits from previous valid thoughts in place.\n",
    "            - Each thought can be a partial or the final solution.\n",
    "            \"\"\".strip()\n",
    "\n",
    "\n",
    "        temp_dict = {'grid_size':tile_size,\n",
    "                    'children_thoughts':children_thoughts,\n",
    "                    'problem_description': problem_description,\n",
    "                    'initial_sudoku': sudoku_puzzle,\n",
    "                    'sudoku_solution': sudoku_solution,\n",
    "                    'children': children_thoughts,\n",
    "                    }\n",
    "\n",
    "        checker = MyChecker()\n",
    "\n",
    "        for ii in range(1, 21):\n",
    "            k = ii*5\n",
    "            tot_chain = ToTChain(llm=llm,\n",
    "                                checker=MyChecker(),\n",
    "                                k=k,\n",
    "                                c=children_thoughts,\n",
    "                                verbose=False,\n",
    "                                verbose_llm=False)\n",
    "                                \n",
    "            solution = tot_chain.run(problem_description=problem_description)\n",
    "            if solution == sudoku_solution:\n",
    "                break\n",
    "        \n",
    "        temp_dict['final_solution'] = solution\n",
    "        temp_dict['k'] = k\n",
    "        data_config[file] = temp_dict\n"
   ]
  },
  {
   "cell_type": "code",
   "execution_count": 7,
   "metadata": {},
   "outputs": [],
   "source": [
    "datadir = '../src/artifacts/'\n",
    "savefile = 'text-davinci-003'+'_difficulty_eda_4x4.json'\n",
    "file_path = datadir+savefile\n",
    "# Writing the dictionary to a JSON file in append mode\n",
    "with open(file_path, \"a\") as json_file:\n",
    "    json.dump(data, json_file)"
   ]
  },
  {
   "cell_type": "code",
   "execution_count": 55,
   "metadata": {},
   "outputs": [],
   "source": [
    "c = 0\n",
    "counter = []\n",
    "ks = []\n",
    "difficulty_dict = {\n",
    "                    'easy': {'ks': [], 'counter': 0},\n",
    "                    'medium': {'ks': [], 'counter': 0},\n",
    "                    'hard':  {'ks': [], 'counter': 0}}\n",
    "for i in data_config.keys():\n",
    "    for j in difficulty_dict.keys():\n",
    "        if j in i:\n",
    "            difficulty_dict[j]['ks'].append(data_config[i]['k'])\n",
    "            difficulty_dict[j]['counter'] += 1\n",
    "    c += 1\n",
    "    counter.append(c)\n",
    "    ks.append(data_config[i]['k'])"
   ]
  },
  {
   "cell_type": "code",
   "execution_count": 64,
   "metadata": {},
   "outputs": [
    {
     "data": {
      "text/plain": [
       "dict_keys(['medium_3_base_problem_4x4.txt', 'base_problem_4x4.txt', 'easy_base_problem_4x4.txt', 'medium_2_base_problem_4x4.txt', 'hard_1_base_problem_4x4.txt', 'hard_2_base_problem_4x4.txt', 'medium_4_base_problem_4x4.txt', 'medium_base_problem_4x4.txt', 'hard_base_problem_4x4.txt', 'hard_3_base_problem_4x4.txt', 'medium_5_base_problem_4x4.txt'])"
      ]
     },
     "execution_count": 64,
     "metadata": {},
     "output_type": "execute_result"
    }
   ],
   "source": [
    "data_config.keys()"
   ]
  },
  {
   "cell_type": "code",
   "execution_count": 83,
   "metadata": {},
   "outputs": [
    {
     "data": {
      "text/plain": [
       "<Figure size 432x288 with 0 Axes>"
      ]
     },
     "metadata": {},
     "output_type": "display_data"
    }
   ],
   "source": [
    "plt.tight_layout()"
   ]
  },
  {
   "cell_type": "code",
   "execution_count": 91,
   "metadata": {},
   "outputs": [
    {
     "data": {
      "image/png": "[encoded data removed]",
      "text/plain": [
       "<Figure size 720x432 with 1 Axes>"
      ]
     },
     "metadata": {
      "needs_background": "light"
     },
     "output_type": "display_data"
    }
   ],
   "source": [
    "plt.figure(figsize=(10,6))  \n",
    "ax = plt.axes()\n",
    "# depict illustration\n",
    "plt.scatter([i for i in range(11)], ks)\n",
    "plt.xlabel('jobid')  \n",
    "plt.ylabel('Max number of Interactions(k)')\n",
    "plt.title(\"k required to solve base problem based on initial conditions\")\n",
    "# setting ticks for x-axis\n",
    "  \n",
    "# setting label for x tick\n",
    "ax.set_xticks([i for i in range(11)])\n",
    "ax.set_xticklabels([i.split('.')[0].split('_')[0:2] for i in data_config.keys()], rotation = 30)\n",
    "plt.savefig(datadir+'max_k.jpg')"
   ]
  },
  {
   "cell_type": "code",
   "execution_count": 90,
   "metadata": {},
   "outputs": [
    {
     "data": {
      "image/png": "[encoded data removed]",
      "text/plain": [
       "<Figure size 432x288 with 1 Axes>"
      ]
     },
     "metadata": {
      "needs_background": "light"
     },
     "output_type": "display_data"
    }
   ],
   "source": [
    "ax = plt.axes()\n",
    "  \n",
    "# depict illustration\n",
    "plt.scatter([i for i in range(3)], [int(np.round(sum(difficulty_dict[key]['ks'])/difficulty_dict[key]['counter'],0)) for key in difficulty_dict.keys()])\n",
    "plt.xlabel('Difficulty')  \n",
    "plt.ylabel('Avg k')\n",
    "plt.title(\"avg k required to solve problem based on initial conditions\")\n",
    "\n",
    "# setting label for x tick\n",
    "ax.set_xticks([i for i in range(3)])\n",
    "ax.set_xticklabels([i for i in difficulty_dict.keys()], rotation = 30)\n",
    "plt.savefig(datadir+'avg_k.jpg')"
   ]
  },
  {
   "cell_type": "code",
   "execution_count": null,
   "metadata": {},
   "outputs": [],
   "source": []
  }
 ],
 "metadata": {
  "kernelspec": {
   "display_name": "Python 3.9.13 64-bit",
   "language": "python",
   "name": "python3"
  },
  "language_info": {
   "codemirror_mode": {
    "name": "ipython",
    "version": 3
   },
   "file_extension": ".py",
   "mimetype": "text/x-python",
   "name": "python",
   "nbconvert_exporter": "python",
   "pygments_lexer": "ipython3",
   "version": "3.9.13"
  },
  "orig_nbformat": 4,
  "vscode": {
   "interpreter": {
    "hash": "aee8b7b246df8f9039afb4144a1f6fd8d2ca17a180786b69acc140d282b71a49"
   }
  }
 },
 "nbformat": 4,
 "nbformat_minor": 2
}
