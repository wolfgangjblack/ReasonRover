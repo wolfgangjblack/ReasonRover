{
 "cells": [
  {
   "cell_type": "code",
   "execution_count": 1,
   "metadata": {},
   "outputs": [],
   "source": [
    "# !pip install -r ../requirements.txt"
   ]
  },
  {
   "cell_type": "code",
   "execution_count": 10,
   "metadata": {},
   "outputs": [],
   "source": [
    "import os\n",
    "import re\n",
    "\n",
    "import json\n",
    "import numpy as np\n",
    "from typing import Tuple\n",
    "\n",
    "import matplotlib.pyplot as plt\n",
    "from langchain.llms import OpenAI\n",
    "\n",
    "from langchain_experimental.tot.base import ToTChain\n",
    "from langchain_experimental.tot.checker import ToTChecker\n",
    "from langchain_experimental.tot.thought import ThoughtValidity\n",
    "\n",
    "##Load API key ------------------\n",
    "f = open('../apikeys/api.txt', 'r')\n",
    "key = f.readline()\n",
    "os.environ['OPENAI_API_KEY'] = key.replace('\\n','')"
   ]
  },
  {
   "cell_type": "code",
   "execution_count": 11,
   "metadata": {},
   "outputs": [],
   "source": [
    "class MyChecker(ToTChecker):\n",
    "    def evaluate(self,\n",
    "        problem_description: str,\n",
    "        thoughts: Tuple[str, ...] = ()) -> ThoughtValidity:\n",
    "        \n",
    "        last_thought = thoughts[-1]\n",
    "        clean_solution = last_thought.replace(\" \", \"\").replace('\"', \"\")\n",
    "        regex_solution = clean_solution.replace(\"*\", \".\").replace(\"|\", \"\\\\|\")\n",
    "        if sudoku_solution in clean_solution:\n",
    "            return ThoughtValidity.VALID_FINAL\n",
    "        elif re.search(regex_solution, sudoku_solution):\n",
    "            return ThoughtValidity.VALID_INTERMEDIATE\n",
    "        else:\n",
    "            return ThoughtValidity.INVALID\n"
   ]
  },
  {
   "cell_type": "code",
   "execution_count": 12,
   "metadata": {},
   "outputs": [],
   "source": [
    "difficulty_map = {'base':2,\n",
    "                    'easy': 2,\n",
    "                    'medium': 2,\n",
    "                    'hard': 3,\n",
    "                    'expert':4}"
   ]
  },
  {
   "cell_type": "code",
   "execution_count": 15,
   "metadata": {},
   "outputs": [
    {
     "name": "stderr",
     "output_type": "stream",
     "text": [
      "/usr/local/lib/python3.9/site-packages/langchain/chains/llm.py:275: UserWarning: The predict_and_parse method is deprecated, instead pass an output parser directly to LLMChain.\n",
      "  warnings.warn(\n"
     ]
    },
    {
     "name": "stdout",
     "output_type": "stream",
     "text": [
      "{'grid_size': '5x5', 'children_thoughts': 10, 'problem_description': '*,5,*,2,*|1,*,5,*,2|2,*,3,*,5|*,2,*,5,*|5,*,2,*,4\\n\\n            - This is a 5x5 Sudoku puzzle.\\n            - The * represents a cell to be filled.\\n            - The | character separates rows.\\n            - At each step, replace one or more * with digits 1-5.\\n            - There must be no duplicate digits in any row, column or  subgrid.\\n            - Keep the known digits from previous valid thoughts in place.\\n            - Each thought can be a partial or the final solution.', 'initial_sudoku': '*,5,*,2,*|1,*,5,*,2|2,*,3,*,5|*,2,*,5,*|5,*,2,*,4', 'sudoku_solution': '4,5,1,2,3|1,3,5,4,2|2,4,3,1,5|3,2,4,5,1|5,1,2,3,4', 'children': 10, 'solved': False, 'final_solution': 'No solution found', 'k': 40}\n",
      "{'grid_size': '9x9', 'children_thoughts': 18, 'problem_description': '*,3,5,4,6,7,1,9,8|4,7,*,5,9,1,3,2,6|1,6,9,*,2,8,7,5,4|6,*,7,9,4,3,3,8,2|8,5,3,2,*,6,4,7,9|9,2,4,8,7,5,*,1,3|7,9,1,6,8,4,2,*,5|5,4,2,1,3,9,8,6,*|3,8,6,7,5,2,*,4,1\\n\\n            - This is a 9x9 Sudoku puzzle.\\n            - The * represents a cell to be filled.\\n            - The | character separates rows.\\n            - At each step, replace one or more * with digits 1-9.\\n            - There must be no duplicate digits in any row, column or 3x3 subgrid.\\n            - Keep the known digits from previous valid thoughts in place.\\n            - Each thought can be a partial or the final solution.', 'initial_sudoku': '*,3,5,4,6,7,1,9,8|4,7,*,5,9,1,3,2,6|1,6,9,*,2,8,7,5,4|6,*,7,9,4,3,3,8,2|8,5,3,2,*,6,4,7,9|9,2,4,8,7,5,*,1,3|7,9,1,6,8,4,2,*,5|5,4,2,1,3,9,8,6,*|3,8,6,7,5,2,*,4,1', 'sudoku_solution': '2,3,5,4,6,7,1,9,8|4,7,8,5,9,1,3,2,6|1,6,9,3,2,8,7,5,4|6,1,7,9,4,3,5,8,2|8,5,3,2,1,6,4,7,9|9,2,4,8,7,5,6,1,3|7,9,1,6,8,4,2,3,5|5,4,2,1,3,9,8,6,7|3,8,6,7,5,2,9,4,1', 'children': 18, 'solved': False, 'final_solution': 'No solution found', 'k': 40}\n",
      "{'grid_size': '5x5', 'children_thoughts': 10, 'problem_description': '*,5,*,2,*|1,*,5,*,2|2,*,3,*,5|*,2,*,5,*|5,1,2,*,*\\n\\n            - This is a 5x5 Sudoku puzzle.\\n            - The * represents a cell to be filled.\\n            - The | character separates rows.\\n            - At each step, replace one or more * with digits 1-5.\\n            - There must be no duplicate digits in any row, column or  subgrid.\\n            - Keep the known digits from previous valid thoughts in place.\\n            - Each thought can be a partial or the final solution.', 'initial_sudoku': '*,5,*,2,*|1,*,5,*,2|2,*,3,*,5|*,2,*,5,*|5,1,2,*,*', 'sudoku_solution': '4,5,1,2,3|1,3,5,4,2|2,4,3,1,5|3,2,4,5,1|5,1,2,3,4', 'children': 10, 'solved': False, 'final_solution': 'No solution found', 'k': 40}\n",
      "{'grid_size': '9x9', 'children_thoughts': 18, 'problem_description': '2,3,5,*,6,7,1,9,8|*,7,8,5,9,1,3,2,6|1,*,9,3,2,8,7,5,4|*,1,7,9,4,3,3,8,2|*,5,3,2,1,6,4,7,9|9,2,4,*,7,5,6,1,3|7,*,1,6,8,4,2,3,5|5,4,2,1,3,*,8,6,7|*,8,6,7,5,2,9,4,1\\n\\n            - This is a 9x9 Sudoku puzzle.\\n            - The * represents a cell to be filled.\\n            - The | character separates rows.\\n            - At each step, replace one or more * with digits 1-9.\\n            - There must be no duplicate digits in any row, column or 3x3 subgrid.\\n            - Keep the known digits from previous valid thoughts in place.\\n            - Each thought can be a partial or the final solution.', 'initial_sudoku': '2,3,5,*,6,7,1,9,8|*,7,8,5,9,1,3,2,6|1,*,9,3,2,8,7,5,4|*,1,7,9,4,3,3,8,2|*,5,3,2,1,6,4,7,9|9,2,4,*,7,5,6,1,3|7,*,1,6,8,4,2,3,5|5,4,2,1,3,*,8,6,7|*,8,6,7,5,2,9,4,1', 'sudoku_solution': '2,3,5,4,6,7,1,9,8|4,7,8,5,9,1,3,2,6|1,6,9,3,2,8,7,5,4|6,1,7,9,4,3,5,8,2|8,5,3,2,1,6,4,7,9|9,2,4,8,7,5,6,1,3|7,9,1,6,8,4,2,3,5|5,4,2,1,3,9,8,6,7|3,8,6,7,5,2,9,4,1', 'children': 18, 'solved': False, 'final_solution': 'No solution found', 'k': 40}\n",
      "{'grid_size': '9x9', 'children_thoughts': 18, 'problem_description': '*,*,*,*,*,*,*,*,*|4,7,8,5,9,1,3,2,6|1,6,9,3,2,8,7,5,4|6,1,7,9,4,3,3,8,2|8,5,3,2,1,6,4,7,9|9,2,4,8,7,5,6,1,3|7,9,1,6,8,4,2,3,5|5,4,2,1,3,9,8,6,7|3,8,6,7,5,2,9,4,1\\n\\n            - This is a 9x9 Sudoku puzzle.\\n            - The * represents a cell to be filled.\\n            - The | character separates rows.\\n            - At each step, replace one or more * with digits 1-9.\\n            - There must be no duplicate digits in any row, column or 3x3 subgrid.\\n            - Keep the known digits from previous valid thoughts in place.\\n            - Each thought can be a partial or the final solution.', 'initial_sudoku': '*,*,*,*,*,*,*,*,*|4,7,8,5,9,1,3,2,6|1,6,9,3,2,8,7,5,4|6,1,7,9,4,3,3,8,2|8,5,3,2,1,6,4,7,9|9,2,4,8,7,5,6,1,3|7,9,1,6,8,4,2,3,5|5,4,2,1,3,9,8,6,7|3,8,6,7,5,2,9,4,1', 'sudoku_solution': '2,3,5,4,6,7,1,9,8|4,7,8,5,9,1,3,2,6|1,6,9,3,2,8,7,5,4|6,1,7,9,4,3,5,8,2|8,5,3,2,1,6,4,7,9|9,2,4,8,7,5,6,1,3|7,9,1,6,8,4,2,3,5|5,4,2,1,3,9,8,6,7|3,8,6,7,5,2,9,4,1', 'children': 18, 'solved': False, 'final_solution': 'No solution found', 'k': 40}\n",
      "{'grid_size': '9x9', 'children_thoughts': 18, 'problem_description': '*,3,5,4,6,7,1,9,8|4,7,*,5,9,1,3,2,6|*,6,9,3,2,8,7,5,4|6,1,7,9,4,3,3,*,2|8,5,3,*,1,6,4,7,9|*,2,4,8,7,5,6,1,3|7,9,1,6,8,*,2,3,5|5,*,2,1,3,9,8,6,7|3,8,6,7,*,2,9,4,1\\n\\n            - This is a 9x9 Sudoku puzzle.\\n            - The * represents a cell to be filled.\\n            - The | character separates rows.\\n            - At each step, replace one or more * with digits 1-9.\\n            - There must be no duplicate digits in any row, column or 3x3 subgrid.\\n            - Keep the known digits from previous valid thoughts in place.\\n            - Each thought can be a partial or the final solution.', 'initial_sudoku': '*,3,5,4,6,7,1,9,8|4,7,*,5,9,1,3,2,6|*,6,9,3,2,8,7,5,4|6,1,7,9,4,3,3,*,2|8,5,3,*,1,6,4,7,9|*,2,4,8,7,5,6,1,3|7,9,1,6,8,*,2,3,5|5,*,2,1,3,9,8,6,7|3,8,6,7,*,2,9,4,1', 'sudoku_solution': '2,3,5,4,6,7,1,9,8|4,7,8,5,9,1,3,2,6|1,6,9,3,2,8,7,5,4|6,1,7,9,4,3,5,8,2|8,5,3,2,1,6,4,7,9|9,2,4,8,7,5,6,1,3|7,9,1,6,8,4,2,3,5|5,4,2,1,3,9,8,6,7|3,8,6,7,5,2,9,4,1', 'children': 18, 'solved': False, 'final_solution': 'No solution found', 'k': 40}\n",
      "{'grid_size': '5x5', 'children_thoughts': 10, 'problem_description': '*,*,*,*,*|1,*,5,4,2|2,*,3,1,5|*,2,*,5,*|5,1,2,*,*\\n\\n            - This is a 5x5 Sudoku puzzle.\\n            - The * represents a cell to be filled.\\n            - The | character separates rows.\\n            - At each step, replace one or more * with digits 1-5.\\n            - There must be no duplicate digits in any row, column or  subgrid.\\n            - Keep the known digits from previous valid thoughts in place.\\n            - Each thought can be a partial or the final solution.', 'initial_sudoku': '*,*,*,*,*|1,*,5,4,2|2,*,3,1,5|*,2,*,5,*|5,1,2,*,*', 'sudoku_solution': '4,5,1,2,3|1,3,5,4,2|2,4,3,1,5|3,2,4,5,1|5,1,2,3,4', 'children': 10, 'solved': False, 'final_solution': 'No solution found', 'k': 40}\n"
     ]
    }
   ],
   "source": [
    "# data_config = {}\n",
    "datadir = '../src/data/'\n",
    "models = [\"text-davinci-003\"]\n",
    "data_config = {}\n",
    "for model in models:\n",
    "    llm = OpenAI(temperature=0.1, max_tokens=512, model=model)\n",
    "    files = [file for file in os.listdir(datadir) if '5x5' in file or '9x9' in file]\n",
    "    for file in files:\n",
    "\n",
    "        tile_size = file.split('.')[0].split('_')[-1]\n",
    "        grid = tile_size.split('x')[0]\n",
    "        subgrid = str(int(np.sqrt(int(grid))))+'x'+str(int(np.sqrt(int(grid))))\n",
    "        if grid == '5':\n",
    "            subgrid = ''\n",
    "        children_thoughts = difficulty_map[file.split('_')[0]]*int(grid)\n",
    "        \n",
    "        with open(datadir+file) as f:\n",
    "            data = f.read()\n",
    "\n",
    "        data = json.loads(data)\n",
    "\n",
    "        sudoku_puzzle = data['sudoku_puzzle']\n",
    "        sudoku_solution = data['sudoku_solution']\n",
    "\n",
    "        problem_description = f\"\"\"\n",
    "            {sudoku_puzzle}\n",
    "\n",
    "            - This is a {tile_size} Sudoku puzzle.\n",
    "            - The * represents a cell to be filled.\n",
    "            - The | character separates rows.\n",
    "            - At each step, replace one or more * with digits 1-{grid}.\n",
    "            - There must be no duplicate digits in any row, column or {subgrid} subgrid.\n",
    "            - Keep the known digits from previous valid thoughts in place.\n",
    "            - Each thought can be a partial or the final solution.\n",
    "            \"\"\".strip()\n",
    "\n",
    "\n",
    "        temp_dict = {'grid_size':tile_size,\n",
    "                    'children_thoughts':children_thoughts,\n",
    "                    'problem_description': problem_description,\n",
    "                    'initial_sudoku': sudoku_puzzle,\n",
    "                    'sudoku_solution': sudoku_solution,\n",
    "                    'children': children_thoughts,\n",
    "                    }\n",
    "\n",
    "        checker = MyChecker()\n",
    "\n",
    "        k = 40\n",
    "        tot_chain = ToTChain(llm=llm,\n",
    "                            checker=MyChecker(),\n",
    "                            k=k,\n",
    "                            c=12,\n",
    "                            verbose=False,\n",
    "                            verbose_llm=False)\n",
    "                            \n",
    "        solution = tot_chain.run(problem_description=problem_description)\n",
    "        if solution == sudoku_solution:\n",
    "            temp_dict['solved'] = True\n",
    "        else:\n",
    "            temp_dict['solved'] = False\n",
    "        \n",
    "        temp_dict['final_solution'] = solution\n",
    "        temp_dict['k'] = k\n",
    "        print(temp_dict)\n",
    "        data_config[file] = temp_dict\n"
   ]
  },
  {
   "cell_type": "code",
   "execution_count": null,
   "metadata": {},
   "outputs": [],
   "source": [
    "datadir = '../src/artifacts/'\n",
    "savefile = 'text-davinci-003_difficulty_eda_variable_grid.json'\n",
    "file_path = datadir+savefile\n",
    "# Writing the dictionary to a JSON file in append mode\n",
    "with open(file_path, \"a\") as json_file:\n",
    "    json.dump(data, json_file)"
   ]
  },
  {
   "cell_type": "code",
   "execution_count": 16,
   "metadata": {},
   "outputs": [
    {
     "data": {
      "text/plain": [
       "{'medium_problem_5x5.txt': {'grid_size': '5x5',\n",
       "  'children_thoughts': 10,\n",
       "  'problem_description': '*,5,*,2,*|1,*,5,*,2|2,*,3,*,5|*,2,*,5,*|5,*,2,*,4\\n\\n            - This is a 5x5 Sudoku puzzle.\\n            - The * represents a cell to be filled.\\n            - The | character separates rows.\\n            - At each step, replace one or more * with digits 1-5.\\n            - There must be no duplicate digits in any row, column or  subgrid.\\n            - Keep the known digits from previous valid thoughts in place.\\n            - Each thought can be a partial or the final solution.',\n",
       "  'initial_sudoku': '*,5,*,2,*|1,*,5,*,2|2,*,3,*,5|*,2,*,5,*|5,*,2,*,4',\n",
       "  'sudoku_solution': '4,5,1,2,3|1,3,5,4,2|2,4,3,1,5|3,2,4,5,1|5,1,2,3,4',\n",
       "  'children': 10,\n",
       "  'solved': False,\n",
       "  'final_solution': 'No solution found',\n",
       "  'k': 40},\n",
       " 'medium_problem_9x9.txt': {'grid_size': '9x9',\n",
       "  'children_thoughts': 18,\n",
       "  'problem_description': '*,3,5,4,6,7,1,9,8|4,7,*,5,9,1,3,2,6|1,6,9,*,2,8,7,5,4|6,*,7,9,4,3,3,8,2|8,5,3,2,*,6,4,7,9|9,2,4,8,7,5,*,1,3|7,9,1,6,8,4,2,*,5|5,4,2,1,3,9,8,6,*|3,8,6,7,5,2,*,4,1\\n\\n            - This is a 9x9 Sudoku puzzle.\\n            - The * represents a cell to be filled.\\n            - The | character separates rows.\\n            - At each step, replace one or more * with digits 1-9.\\n            - There must be no duplicate digits in any row, column or 3x3 subgrid.\\n            - Keep the known digits from previous valid thoughts in place.\\n            - Each thought can be a partial or the final solution.',\n",
       "  'initial_sudoku': '*,3,5,4,6,7,1,9,8|4,7,*,5,9,1,3,2,6|1,6,9,*,2,8,7,5,4|6,*,7,9,4,3,3,8,2|8,5,3,2,*,6,4,7,9|9,2,4,8,7,5,*,1,3|7,9,1,6,8,4,2,*,5|5,4,2,1,3,9,8,6,*|3,8,6,7,5,2,*,4,1',\n",
       "  'sudoku_solution': '2,3,5,4,6,7,1,9,8|4,7,8,5,9,1,3,2,6|1,6,9,3,2,8,7,5,4|6,1,7,9,4,3,5,8,2|8,5,3,2,1,6,4,7,9|9,2,4,8,7,5,6,1,3|7,9,1,6,8,4,2,3,5|5,4,2,1,3,9,8,6,7|3,8,6,7,5,2,9,4,1',\n",
       "  'children': 18,\n",
       "  'solved': False,\n",
       "  'final_solution': 'No solution found',\n",
       "  'k': 40},\n",
       " 'base_problem_5x5.txt': {'grid_size': '5x5',\n",
       "  'children_thoughts': 10,\n",
       "  'problem_description': '*,5,*,2,*|1,*,5,*,2|2,*,3,*,5|*,2,*,5,*|5,1,2,*,*\\n\\n            - This is a 5x5 Sudoku puzzle.\\n            - The * represents a cell to be filled.\\n            - The | character separates rows.\\n            - At each step, replace one or more * with digits 1-5.\\n            - There must be no duplicate digits in any row, column or  subgrid.\\n            - Keep the known digits from previous valid thoughts in place.\\n            - Each thought can be a partial or the final solution.',\n",
       "  'initial_sudoku': '*,5,*,2,*|1,*,5,*,2|2,*,3,*,5|*,2,*,5,*|5,1,2,*,*',\n",
       "  'sudoku_solution': '4,5,1,2,3|1,3,5,4,2|2,4,3,1,5|3,2,4,5,1|5,1,2,3,4',\n",
       "  'children': 10,\n",
       "  'solved': False,\n",
       "  'final_solution': 'No solution found',\n",
       "  'k': 40},\n",
       " 'medium_1_problem_9x9.txt': {'grid_size': '9x9',\n",
       "  'children_thoughts': 18,\n",
       "  'problem_description': '2,3,5,*,6,7,1,9,8|*,7,8,5,9,1,3,2,6|1,*,9,3,2,8,7,5,4|*,1,7,9,4,3,3,8,2|*,5,3,2,1,6,4,7,9|9,2,4,*,7,5,6,1,3|7,*,1,6,8,4,2,3,5|5,4,2,1,3,*,8,6,7|*,8,6,7,5,2,9,4,1\\n\\n            - This is a 9x9 Sudoku puzzle.\\n            - The * represents a cell to be filled.\\n            - The | character separates rows.\\n            - At each step, replace one or more * with digits 1-9.\\n            - There must be no duplicate digits in any row, column or 3x3 subgrid.\\n            - Keep the known digits from previous valid thoughts in place.\\n            - Each thought can be a partial or the final solution.',\n",
       "  'initial_sudoku': '2,3,5,*,6,7,1,9,8|*,7,8,5,9,1,3,2,6|1,*,9,3,2,8,7,5,4|*,1,7,9,4,3,3,8,2|*,5,3,2,1,6,4,7,9|9,2,4,*,7,5,6,1,3|7,*,1,6,8,4,2,3,5|5,4,2,1,3,*,8,6,7|*,8,6,7,5,2,9,4,1',\n",
       "  'sudoku_solution': '2,3,5,4,6,7,1,9,8|4,7,8,5,9,1,3,2,6|1,6,9,3,2,8,7,5,4|6,1,7,9,4,3,5,8,2|8,5,3,2,1,6,4,7,9|9,2,4,8,7,5,6,1,3|7,9,1,6,8,4,2,3,5|5,4,2,1,3,9,8,6,7|3,8,6,7,5,2,9,4,1',\n",
       "  'children': 18,\n",
       "  'solved': False,\n",
       "  'final_solution': 'No solution found',\n",
       "  'k': 40},\n",
       " 'medium_4_problem_9x9.txt': {'grid_size': '9x9',\n",
       "  'children_thoughts': 18,\n",
       "  'problem_description': '*,*,*,*,*,*,*,*,*|4,7,8,5,9,1,3,2,6|1,6,9,3,2,8,7,5,4|6,1,7,9,4,3,3,8,2|8,5,3,2,1,6,4,7,9|9,2,4,8,7,5,6,1,3|7,9,1,6,8,4,2,3,5|5,4,2,1,3,9,8,6,7|3,8,6,7,5,2,9,4,1\\n\\n            - This is a 9x9 Sudoku puzzle.\\n            - The * represents a cell to be filled.\\n            - The | character separates rows.\\n            - At each step, replace one or more * with digits 1-9.\\n            - There must be no duplicate digits in any row, column or 3x3 subgrid.\\n            - Keep the known digits from previous valid thoughts in place.\\n            - Each thought can be a partial or the final solution.',\n",
       "  'initial_sudoku': '*,*,*,*,*,*,*,*,*|4,7,8,5,9,1,3,2,6|1,6,9,3,2,8,7,5,4|6,1,7,9,4,3,3,8,2|8,5,3,2,1,6,4,7,9|9,2,4,8,7,5,6,1,3|7,9,1,6,8,4,2,3,5|5,4,2,1,3,9,8,6,7|3,8,6,7,5,2,9,4,1',\n",
       "  'sudoku_solution': '2,3,5,4,6,7,1,9,8|4,7,8,5,9,1,3,2,6|1,6,9,3,2,8,7,5,4|6,1,7,9,4,3,5,8,2|8,5,3,2,1,6,4,7,9|9,2,4,8,7,5,6,1,3|7,9,1,6,8,4,2,3,5|5,4,2,1,3,9,8,6,7|3,8,6,7,5,2,9,4,1',\n",
       "  'children': 18,\n",
       "  'solved': False,\n",
       "  'final_solution': 'No solution found',\n",
       "  'k': 40},\n",
       " 'medium_3_problem_9x9.txt': {'grid_size': '9x9',\n",
       "  'children_thoughts': 18,\n",
       "  'problem_description': '*,3,5,4,6,7,1,9,8|4,7,*,5,9,1,3,2,6|*,6,9,3,2,8,7,5,4|6,1,7,9,4,3,3,*,2|8,5,3,*,1,6,4,7,9|*,2,4,8,7,5,6,1,3|7,9,1,6,8,*,2,3,5|5,*,2,1,3,9,8,6,7|3,8,6,7,*,2,9,4,1\\n\\n            - This is a 9x9 Sudoku puzzle.\\n            - The * represents a cell to be filled.\\n            - The | character separates rows.\\n            - At each step, replace one or more * with digits 1-9.\\n            - There must be no duplicate digits in any row, column or 3x3 subgrid.\\n            - Keep the known digits from previous valid thoughts in place.\\n            - Each thought can be a partial or the final solution.',\n",
       "  'initial_sudoku': '*,3,5,4,6,7,1,9,8|4,7,*,5,9,1,3,2,6|*,6,9,3,2,8,7,5,4|6,1,7,9,4,3,3,*,2|8,5,3,*,1,6,4,7,9|*,2,4,8,7,5,6,1,3|7,9,1,6,8,*,2,3,5|5,*,2,1,3,9,8,6,7|3,8,6,7,*,2,9,4,1',\n",
       "  'sudoku_solution': '2,3,5,4,6,7,1,9,8|4,7,8,5,9,1,3,2,6|1,6,9,3,2,8,7,5,4|6,1,7,9,4,3,5,8,2|8,5,3,2,1,6,4,7,9|9,2,4,8,7,5,6,1,3|7,9,1,6,8,4,2,3,5|5,4,2,1,3,9,8,6,7|3,8,6,7,5,2,9,4,1',\n",
       "  'children': 18,\n",
       "  'solved': False,\n",
       "  'final_solution': 'No solution found',\n",
       "  'k': 40},\n",
       " 'medium_2_problem_5x5.txt': {'grid_size': '5x5',\n",
       "  'children_thoughts': 10,\n",
       "  'problem_description': '*,*,*,*,*|1,*,5,4,2|2,*,3,1,5|*,2,*,5,*|5,1,2,*,*\\n\\n            - This is a 5x5 Sudoku puzzle.\\n            - The * represents a cell to be filled.\\n            - The | character separates rows.\\n            - At each step, replace one or more * with digits 1-5.\\n            - There must be no duplicate digits in any row, column or  subgrid.\\n            - Keep the known digits from previous valid thoughts in place.\\n            - Each thought can be a partial or the final solution.',\n",
       "  'initial_sudoku': '*,*,*,*,*|1,*,5,4,2|2,*,3,1,5|*,2,*,5,*|5,1,2,*,*',\n",
       "  'sudoku_solution': '4,5,1,2,3|1,3,5,4,2|2,4,3,1,5|3,2,4,5,1|5,1,2,3,4',\n",
       "  'children': 10,\n",
       "  'solved': False,\n",
       "  'final_solution': 'No solution found',\n",
       "  'k': 40}}"
      ]
     },
     "execution_count": 16,
     "metadata": {},
     "output_type": "execute_result"
    }
   ],
   "source": [
    "data_config"
   ]
  },
  {
   "cell_type": "code",
   "execution_count": null,
   "metadata": {},
   "outputs": [],
   "source": [
    "plt.tight_layout()"
   ]
  },
  {
   "cell_type": "code",
   "execution_count": null,
   "metadata": {},
   "outputs": [],
   "source": [
    "plt.figure(figsize=(10,6))  \n",
    "ax = plt.axes()\n",
    "# depict illustration\n",
    "plt.scatter([i for i in range(11)], ks)\n",
    "plt.xlabel('jobid')  \n",
    "plt.ylabel('Max number of Interactions(k)')\n",
    "plt.title(\"k required to solve base problem based on initial conditions\")\n",
    "# setting ticks for x-axis\n",
    "  \n",
    "# setting label for x tick\n",
    "ax.set_xticks([i for i in range(11)])\n",
    "ax.set_xticklabels([i.split('.')[0].split('_')[0:2] for i in data_config.keys()], rotation = 30)\n",
    "plt.savefig(datadir+'max_k.jpg')"
   ]
  },
  {
   "cell_type": "code",
   "execution_count": null,
   "metadata": {},
   "outputs": [],
   "source": [
    "ax = plt.axes()\n",
    "  \n",
    "# depict illustration\n",
    "plt.scatter([i for i in range(3)], [int(np.round(sum(difficulty_dict[key]['ks'])/difficulty_dict[key]['counter'],0)) for key in difficulty_dict.keys()])\n",
    "plt.xlabel('Difficulty')  \n",
    "plt.ylabel('Avg k')\n",
    "plt.title(\"avg k required to solve problem based on initial conditions\")\n",
    "\n",
    "# setting label for x tick\n",
    "ax.set_xticks([i for i in range(3)])\n",
    "ax.set_xticklabels([i for i in difficulty_dict.keys()], rotation = 30)\n",
    "plt.savefig(datadir+'avg_k.jpg')"
   ]
  },
  {
   "cell_type": "code",
   "execution_count": null,
   "metadata": {},
   "outputs": [],
   "source": []
  }
 ],
 "metadata": {
  "kernelspec": {
   "display_name": "Python 3.9.13 64-bit",
   "language": "python",
   "name": "python3"
  },
  "language_info": {
   "codemirror_mode": {
    "name": "ipython",
    "version": 3
   },
   "file_extension": ".py",
   "mimetype": "text/x-python",
   "name": "python",
   "nbconvert_exporter": "python",
   "pygments_lexer": "ipython3",
   "version": "3.9.13"
  },
  "orig_nbformat": 4,
  "vscode": {
   "interpreter": {
    "hash": "aee8b7b246df8f9039afb4144a1f6fd8d2ca17a180786b69acc140d282b71a49"
   }
  }
 },
 "nbformat": 4,
 "nbformat_minor": 2
}
