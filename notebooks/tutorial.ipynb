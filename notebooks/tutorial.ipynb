{
 "cells": [
  {
   "cell_type": "markdown",
   "metadata": {},
   "source": [
    "## Tutorial notebook\n",
    "This notebook is mostly following a tutorial over the paper "
   ]
  },
  {
   "cell_type": "code",
   "execution_count": 28,
   "metadata": {},
   "outputs": [],
   "source": [
    "!pip install -r ../requirements.txt"
   ]
  },
  {
   "cell_type": "code",
   "execution_count": 29,
   "metadata": {},
   "outputs": [],
   "source": [
    "import os\n",
    "import re\n",
    "\n",
    "import json\n",
    "import numpy as np\n",
    "from typing import Tuple\n",
    "\n",
    "\n",
    "from langchain.llms import OpenAI\n",
    "\n",
    "from langchain_experimental.tot.base import ToTChain\n",
    "from langchain_experimental.tot.checker import ToTChecker\n",
    "from langchain_experimental.tot.thought import ThoughtValidity\n",
    "\n",
    "##Load API key ------------------\n",
    "f = open('../apikeys/api.txt', 'r')\n",
    "key = f.readline()\n",
    "os.environ['OPENAI_API_KEY'] = key"
   ]
  },
  {
   "cell_type": "code",
   "execution_count": 30,
   "metadata": {},
   "outputs": [],
   "source": [
    "class MyChecker(ToTChecker):\n",
    "    def evaluate(self,\n",
    "        problem_description: str,\n",
    "        thoughts: Tuple[str, ...] = ()) -> ThoughtValidity:\n",
    "        \n",
    "        last_thought = thoughts[-1]\n",
    "        clean_solution = last_thought.replace(\" \", \"\").replace('\"', \"\")\n",
    "        regex_solution = clean_solution.replace(\"*\", \".\").replace(\"|\", \"\\\\|\")\n",
    "        if sudoku_solution in clean_solution:\n",
    "            return ThoughtValidity.VALID_FINAL\n",
    "        elif re.search(regex_solution, sudoku_solution):\n",
    "            return ThoughtValidity.VALID_INTERMEDIATE\n",
    "        else:\n",
    "            return ThoughtValidity.INVALID\n"
   ]
  },
  {
   "cell_type": "code",
   "execution_count": 31,
   "metadata": {},
   "outputs": [],
   "source": [
    "sudoku_puzzle = \"3,*,*,2|1,*,3,*|*,1,*,3|4,*,*,1\"\n",
    "sudoku_solution = \"3,4,1,2|1,2,3,4|2,1,4,3|4,3,2,1\"\n",
    "\n",
    "problem_description = f\"\"\"\n",
    "    {sudoku_puzzle}\n",
    "\n",
    "    - This is a 4x4 Sudoku puzzle.\n",
    "    - The * represents a cell to be filled.\n",
    "    - The | character separates rows.\n",
    "    - At each step, replace one or more * with digits 1-4.\n",
    "    - There must be no duplicate digits in any row, column or 2x2 subgrid.\n",
    "    - Keep the known digits from previous valid thoughts in place.\n",
    "    - Each thought can be a partial or the final solution.\n",
    "    \"\"\".strip()"
   ]
  },
  {
   "cell_type": "code",
   "execution_count": 35,
   "metadata": {},
   "outputs": [
    {
     "name": "stdout",
     "output_type": "stream",
     "text": [
      "\n",
      "\n",
      "\u001b[1m> Entering new ToTChain chain...\u001b[0m\n",
      "Starting the ToT solve procedure.\n"
     ]
    },
    {
     "name": "stderr",
     "output_type": "stream",
     "text": [
      "/usr/local/lib/python3.9/site-packages/langchain/chains/llm.py:275: UserWarning: The predict_and_parse method is deprecated, instead pass an output parser directly to LLMChain.\n",
      "  warnings.warn(\n"
     ]
    },
    {
     "name": "stdout",
     "output_type": "stream",
     "text": [
      "\u001b[31;1m\u001b[1;3mThought: 3,*,*,2|1,*,3,*|*,1,*,3|4,2,*,1\n",
      "\u001b[0m\u001b[31;1m\u001b[1;3mThought: 3,*,*,2|1,4,3,*|*,1,*,3|4,2,*,1\n",
      "\u001b[0m\u001b[31;1m\u001b[1;3mThought: 3,*,*,2|1,*,3,*|*,1,*,3|4,2,*,1\n",
      "\u001b[0m\u001b[31;1m\u001b[1;3mThought: 3,*,*,2|1,4,3,*|*,1,*,3|4,2,*,1\n",
      "\u001b[0m\u001b[31;1m\u001b[1;3mThought: 3,*,*,2|1,*,3,*|*,1,*,3|4,2,*,1\n",
      "\u001b[0m\u001b[31;1m\u001b[1;3mThought: 3,*,*,2|1,4,3,*|*,1,*,3|4,2,*,1\n",
      "\u001b[0m\u001b[31;1m\u001b[1;3mThought: 3,*,*,2|1,*,3,*|*,1,*,3|4,2,*,1\n",
      "\u001b[0m\u001b[31;1m\u001b[1;3mThought: 3,*,*,2|1,4,3,*|*,1,*,3|4,2,*,1\n",
      "\u001b[0m\u001b[31;1m\u001b[1;3mThought: 3,*,*,2|1,*,3,*|*,1,*,3|4,2,*,1\n",
      "\u001b[0m\u001b[31;1m\u001b[1;3mThought: 3,*,*,2|1,4,3,*|*,1,*,3|4,2,*,1\n",
      "\u001b[0m\u001b[31;1m\u001b[1;3mThought: 3,*,*,2|1,*,3,*|*,1,*,3|4,2,*,1\n",
      "\u001b[0m\u001b[31;1m\u001b[1;3mThought: 3,*,*,2|1,4,3,*|*,1,*,3|4,2,*,1\n",
      "\u001b[0m\u001b[31;1m\u001b[1;3mThought: 3,*,*,2|1,*,3,*|*,1,*,3|4,2,*,1\n",
      "\u001b[0m\u001b[31;1m\u001b[1;3mThought: 3,*,*,2|1,4,3,*|*,1,*,3|4,2,*,1\n",
      "\u001b[0m\u001b[31;1m\u001b[1;3mThought: 3,*,*,2|1,*,3,*|*,1,*,3|4,2,*,1\n",
      "\u001b[0m\u001b[31;1m\u001b[1;3mThought: 3,*,*,2|1,4,3,*|*,1,*,3|4,2,*,1\n",
      "\u001b[0m\u001b[31;1m\u001b[1;3mThought: 3,*,*,2|1,*,3,*|*,1,*,3|4,2,*,1\n",
      "\u001b[0m\u001b[31;1m\u001b[1;3mThought: 3,*,*,2|1,4,3,*|*,1,*,3|4,2,*,1\n",
      "\u001b[0m\u001b[31;1m\u001b[1;3mThought: 3,*,*,2|1,*,3,*|*,1,*,3|4,2,*,1\n",
      "\u001b[0m\u001b[31;1m\u001b[1;3mThought: 3,*,*,2|1,4,3,*|*,1,*,3|4,2,*,1\n",
      "\u001b[0m\u001b[31;1m\u001b[1;3mThought: 3,*,*,2|1,*,3,*|*,1,*,3|4,2,*,1\n",
      "\u001b[0m\u001b[31;1m\u001b[1;3mThought: 3,*,*,2|1,4,3,*|*,1,*,3|4,2,*,1\n",
      "\u001b[0m\u001b[31;1m\u001b[1;3mThought: 3,*,*,2|1,*,3,*|*,1,*,3|4,2,*,1\n",
      "\u001b[0m\u001b[31;1m\u001b[1;3mThought: 3,*,*,2|1,4,3,*|*,1,*,3|4,2,*,1\n",
      "\u001b[0m\u001b[31;1m\u001b[1;3mThought: 3,*,*,2|1,*,3,*|*,1,*,3|4,2,*,1\n",
      "\u001b[0m\u001b[31;1m\u001b[1;3mThought: 3,*,*,2|1,4,3,*|*,1,*,3|4,2,*,1\n",
      "\u001b[0m\u001b[31;1m\u001b[1;3mThought: 3,*,*,2|1,*,3,*|*,1,*,3|4,2,*,1\n",
      "\u001b[0m\u001b[31;1m\u001b[1;3mThought: 3,*,*,2|1,4,3,*|*,1,*,3|4,2,*,1\n",
      "\u001b[0m\u001b[31;1m\u001b[1;3mThought: 3,*,*,2|1,*,3,*|*,1,*,3|4,2,*,1\n",
      "\u001b[0m\u001b[31;1m\u001b[1;3mThought: 3,*,*,2|1,4,3,*|*,1,*,3|4,2,*,1\n",
      "\u001b[0m\n",
      "\u001b[1m> Finished chain.\u001b[0m\n"
     ]
    }
   ],
   "source": [
    "llm = OpenAI(temperature=0.1, max_tokens=512, model=\"text-davinci-003\")\n",
    "checker = MyChecker()\n",
    "\n",
    "tot_chain = ToTChain(llm=llm, checker=MyChecker(), k=30, c= 2, verbose=True, verbose_llm=False)\n",
    "solution = tot_chain.run(problem_description=problem_description)"
   ]
  },
  {
   "cell_type": "code",
   "execution_count": 36,
   "metadata": {},
   "outputs": [
    {
     "data": {
      "text/plain": [
       "'No solution found'"
      ]
     },
     "execution_count": 36,
     "metadata": {},
     "output_type": "execute_result"
    }
   ],
   "source": [
    "solution"
   ]
  },
  {
   "cell_type": "code",
   "execution_count": null,
   "metadata": {},
   "outputs": [],
   "source": []
  }
 ],
 "metadata": {
  "kernelspec": {
   "display_name": "Python 3.9.13 64-bit",
   "language": "python",
   "name": "python3"
  },
  "language_info": {
   "codemirror_mode": {
    "name": "ipython",
    "version": 3
   },
   "file_extension": ".py",
   "mimetype": "text/x-python",
   "name": "python",
   "nbconvert_exporter": "python",
   "pygments_lexer": "ipython3",
   "version": "3.9.13"
  },
  "orig_nbformat": 4,
  "vscode": {
   "interpreter": {
    "hash": "aee8b7b246df8f9039afb4144a1f6fd8d2ca17a180786b69acc140d282b71a49"
   }
  }
 },
 "nbformat": 4,
 "nbformat_minor": 2
}
